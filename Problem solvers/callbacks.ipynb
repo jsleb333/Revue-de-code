{
 "cells": [
  {
   "cell_type": "markdown",
   "metadata": {},
   "source": [
    "# Callbacks\n",
    "This notebook proposes an extension to the Problem solver notebook.\n",
    "It introduces the notion of callbacks to handle options in a modular way.\n",
    "\n",
    "## What is a callback?\n",
    "A callback is an object that will execute specific actions that will be called at specific times.\n",
    "\n",
    "Let us explain this concept with the help of an example. Suppose you want to implement an algorithm with 2 main parts. You want to execute code _not_ related to the algorithm itself in between. To achieve this without altering the algorithm conciseness, define the following generic Callback object:"
   ]
  },
  {
   "cell_type": "code",
   "execution_count": 15,
   "metadata": {},
   "outputs": [],
   "source": [
    "class Callback:\n",
    "    \"\"\"\n",
    "    This is a generic Callback object that defines 4 methods to handle modular options.\n",
    "    All callbacks should inherit from this one.\n",
    "    \"\"\"\n",
    "    def before_part_1(self, *args, **kwargs):\n",
    "        pass\n",
    "    \n",
    "    def after_part_1(self, *args, **kwargs):\n",
    "        pass\n",
    "\n",
    "    def before_part_2(self, *args, **kwargs):\n",
    "        pass\n",
    "\n",
    "    def after_part_2(self, *args, **kwargs):\n",
    "        pass"
   ]
  },
  {
   "cell_type": "markdown",
   "metadata": {},
   "source": [
    "To give an example of a use case, and to help us keep track of what is happening, define the Progression callback by inheriting from Callback: "
   ]
  },
  {
   "cell_type": "code",
   "execution_count": 25,
   "metadata": {},
   "outputs": [],
   "source": [
    "class BasicProgression(Callback):\n",
    "    \"\"\"\n",
    "    This callback follows progression of the algorithm by printing at every steps.\n",
    "    \"\"\"\n",
    "    def before_part_1(self, *args, **kwargs):\n",
    "        print('Doing something before part 1.')\n",
    "    \n",
    "    def after_part_1(self, *args, **kwargs):\n",
    "        print('Doing something after part 1.')\n",
    "\n",
    "    def before_part_2(self, *args, **kwargs):\n",
    "        print('Doing something before part 2.')\n",
    "        \n",
    "    def after_part_2(self, *args, **kwargs):\n",
    "        print('Doing something after part 2.')"
   ]
  },
  {
   "cell_type": "markdown",
   "metadata": {},
   "source": [
    "Then, inside the `ProblemSolver` class examined previously, you would change the execution of the `solve` method to"
   ]
  },
  {
   "cell_type": "code",
   "execution_count": 26,
   "metadata": {},
   "outputs": [],
   "source": [
    "class ProblemSolver:\n",
    "    def solve(self, data_for_the_algo, callbacks_list):\n",
    "        \n",
    "        things_callbacks_need = (self,)\n",
    "        \n",
    "        # Before part 1\n",
    "        for callback in callbacks_list: callback.before_part_1(things_callbacks_need)\n",
    "        \n",
    "        # Part 1\n",
    "        self.solve_part_1(data_for_the_algo)\n",
    "        \n",
    "        # After part 1\n",
    "        for callback in callbacks_list: callback.after_part_1(things_callbacks_need)\n",
    "        \n",
    "        # Maybe some line of codes\n",
    "        \n",
    "        # Before part 2\n",
    "        for callback in callbacks_list: callback.before_part_2(things_callbacks_need)\n",
    "        \n",
    "        # Part 2\n",
    "        self.solve_part_2(data_for_the_algo)\n",
    "        \n",
    "        # After part 2\n",
    "        for callback in callbacks_list: callback.after_part_2(things_callbacks_need)\n",
    "        \n",
    "        return self\n",
    "    \n",
    "    def solve_part_1(self, data): pass\n",
    "    \n",
    "    def solve_part_2(self, data): pass"
   ]
  },
  {
   "cell_type": "code",
   "execution_count": 29,
   "metadata": {},
   "outputs": [
    {
     "name": "stdout",
     "output_type": "stream",
     "text": [
      "Doing something before part 1.\n",
      "Doing something after part 1.\n",
      "Doing something before part 2.\n",
      "Doing something after part 2.\n"
     ]
    },
    {
     "data": {
      "text/plain": [
       "<__main__.ProblemSolver at 0x7f080018e940>"
      ]
     },
     "execution_count": 29,
     "metadata": {},
     "output_type": "execute_result"
    }
   ],
   "source": [
    "callbacks_list = [BasicProgression()]\n",
    "problem_solver = ProblemSolver()\n",
    "problem_solver.solve(1, callbacks_list)"
   ]
  },
  {
   "cell_type": "markdown",
   "metadata": {},
   "source": [
    "This might seem like we added many lines of code to achieve very little more than what we could have done with some prints. However, there are many advantages:\n",
    "- Easy to modify: You know exactly where the text you want to print is; you don't have to find somewhere in the algorithm.\n",
    "- Easy to extend: You can now pass optional arguments to the constructor of the callback instead of to the `solve` method. For example, you can tune the level of verbosity, or you can print in a file instead of the terminal.\n",
    "\n",
    "But mostly,\n",
    "- The `solve` method do exactly that, and nothing else.\n",
    "\n",
    "Let us look at some useful example."
   ]
  },
  {
   "cell_type": "markdown",
   "metadata": {},
   "source": [
    "## The Progression Callback\n",
    "We take a look at a more advanced example of the Progression Callback."
   ]
  },
  {
   "cell_type": "code",
   "execution_count": 19,
   "metadata": {},
   "outputs": [],
   "source": [
    "class Progression(Callback):\n",
    "    \"\"\"\n",
    "    This callback follows progression of the algorithm by printing at every steps.\n",
    "    \n",
    "    The verbose level are 0, 1 or 2.\n",
    "    \"\"\"\n",
    "    def __init__(self, verbose_level=1):\n",
    "        self.verbose_level = verbose_level\n",
    "    \n",
    "    def before_part_1(self, *args, **kwargs):\n",
    "        print('Starting algorithm.')\n",
    "    \n",
    "    def after_part_1(self, *args, **kwargs):\n",
    "        if self.verbose_level >= 1:\n",
    "            print('Part 1 completed.')\n",
    "        \n",
    "    def before_part_2(self, *args, **kwargs):\n",
    "        if self.verbose_level >= 2:\n",
    "            print('We talk about part 2 of algorithm only if verbose is set high.')\n",
    "        \n",
    "    def after_part_2(self, *args, **kwargs):\n",
    "        print('Finished algorithm')"
   ]
  },
  {
   "cell_type": "code",
   "execution_count": null,
   "metadata": {},
   "outputs": [],
   "source": []
  }
 ],
 "metadata": {
  "kernelspec": {
   "display_name": "Python 3",
   "language": "python",
   "name": "python3"
  },
  "language_info": {
   "codemirror_mode": {
    "name": "ipython",
    "version": 3
   },
   "file_extension": ".py",
   "mimetype": "text/x-python",
   "name": "python",
   "nbconvert_exporter": "python",
   "pygments_lexer": "ipython3",
   "version": "3.6.5"
  }
 },
 "nbformat": 4,
 "nbformat_minor": 2
}
