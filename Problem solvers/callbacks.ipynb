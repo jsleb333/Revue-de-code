{
 "cells": [
  {
   "cell_type": "markdown",
   "metadata": {},
   "source": [
    "# Callbacks\n",
    "This notebook proposes an extension to the Problem solvers notebook.\n",
    "We explore:\n",
    "- The Callback concept\n",
    "- The Progression Callback\n",
    "- The Checkpoint Callback\n",
    "- The CallbackList\n",
    "\n",
    "## What is a callback?\n",
    "A callback is an object that will execute specific actions that will be called at specific times. They serves as a way to alleviate the algorithm from unrelated actions, since they can take up several lines in the code. Examples of callbacks include:\n",
    "- Following the progression in the console or with logs\n",
    "- Making checkpoints of a model\n",
    "- Saving results at each step\n",
    "- Handling multiple break conditions in _for_ loops\n",
    "- Etc.\n",
    "\n",
    "In this setup, each of these action will be an individual callback, and each of these is responsible to fulfill its goal.\n",
    "\n",
    "Let us explain further this concept with the help of an example. Suppose we want to implement an algorithm with 2 main parts. We want to execute code _not_ related to the algorithm itself in between. To achieve this without altering the algorithm conciseness, we define the following generic Callback object:"
   ]
  },
  {
   "cell_type": "code",
   "execution_count": 1,
   "metadata": {},
   "outputs": [],
   "source": [
    "class Callback:\n",
    "    \"\"\"\n",
    "    This is a generic Callback object that defines 4 methods to handle actions\n",
    "    unrelated to the algorithm. \n",
    "    \n",
    "    All callbacks should inherit from this one.\n",
    "    \"\"\"\n",
    "    def before_part_1(self, *args, **kwargs):\n",
    "        pass\n",
    "    \n",
    "    def after_part_1(self, *args, **kwargs):\n",
    "        pass\n",
    "\n",
    "    def before_part_2(self, *args, **kwargs):\n",
    "        pass\n",
    "\n",
    "    def after_part_2(self, *args, **kwargs):\n",
    "        pass"
   ]
  },
  {
   "cell_type": "markdown",
   "metadata": {},
   "source": [
    "The 4 methods of the Callback object will be called at the right time according to the name of the method. These methods take anything as arguments, since the callback could need anything to accomplish its goal.\n",
    "\n",
    "The generic Callback object defines the 4 methods, even though they are not used and do nothing. This is so that inherited callbacks will have these methods well defined.\n",
    "\n",
    "To give a more meaningful example, and to help us keep track of what is happening, define the these basic callbacks by inheriting from Callback: "
   ]
  },
  {
   "cell_type": "code",
   "execution_count": 2,
   "metadata": {},
   "outputs": [],
   "source": [
    "class BasicCallbackPart1(Callback):\n",
    "    def before_part_1(self, *args, **kwargs):\n",
    "        print('Doing something before part 1.')\n",
    "    \n",
    "    def after_part_1(self, *args, **kwargs):\n",
    "        print('Doing something after part 1.')\n",
    "\n",
    "        \n",
    "class BasicCallbackPart2(Callback):\n",
    "    def before_part_2(self, *args, **kwargs):\n",
    "        print('Doing something before part 2.')\n",
    "        \n",
    "    def after_part_2(self, *args, **kwargs):\n",
    "        print('Doing something after part 2.')"
   ]
  },
  {
   "cell_type": "markdown",
   "metadata": {},
   "source": [
    "We use these callbacks inside the `ProblemSolver` class examined previously. We change the execution of the `solve` method."
   ]
  },
  {
   "cell_type": "code",
   "execution_count": 3,
   "metadata": {},
   "outputs": [],
   "source": [
    "class ProblemSolver:\n",
    "    def solve(self, data_for_the_algo, callbacks_list):\n",
    "        \n",
    "        things_callbacks_need = (self,) # A reference to the current object is often needed by the callbacks\n",
    "        \n",
    "        # Before part 1\n",
    "        for callback in callbacks_list: callback.before_part_1(things_callbacks_need)\n",
    "        # Part 1\n",
    "        self.solve_part_1(data_for_the_algo)\n",
    "        # After part 1\n",
    "        for callback in callbacks_list: callback.after_part_1(things_callbacks_need)\n",
    "        \n",
    "        # Maybe some line of codes\n",
    "        \n",
    "        # Before part 2\n",
    "        for callback in callbacks_list: callback.before_part_2(things_callbacks_need)\n",
    "        # Part 2\n",
    "        self.solve_part_2(data_for_the_algo)\n",
    "        # After part 2\n",
    "        for callback in callbacks_list: callback.after_part_2(things_callbacks_need)\n",
    "        \n",
    "        return self\n",
    "    \n",
    "    def solve_part_1(self, data): pass\n",
    "    \n",
    "    def solve_part_2(self, data): pass"
   ]
  },
  {
   "cell_type": "code",
   "execution_count": 4,
   "metadata": {},
   "outputs": [
    {
     "name": "stdout",
     "output_type": "stream",
     "text": [
      "Doing something before part 1.\n",
      "Doing something after part 1.\n",
      "Doing something before part 2.\n",
      "Doing something after part 2.\n"
     ]
    },
    {
     "data": {
      "text/plain": [
       "<__main__.ProblemSolver at 0x162133c7320>"
      ]
     },
     "execution_count": 4,
     "metadata": {},
     "output_type": "execute_result"
    }
   ],
   "source": [
    "# Usage example\n",
    "callbacks_list = [BasicCallbackPart1(), BasicCallbackPart2()]\n",
    "problem_solver = ProblemSolver()\n",
    "problem_solver.solve(1, callbacks_list)"
   ]
  },
  {
   "cell_type": "markdown",
   "metadata": {},
   "source": [
    "This may seem rather involved to implement, compared to what we could have simply done inside the `solve` method. However, there are many advantages:\n",
    "- Easy to maintain: You know exactly what do what and where in the code.\n",
    "- No need for comment: all objects speak for themselves.\n",
    "- Pass optional arguments to the constructor of the callback instead of the `solve` method.\n",
    "- Clarity gain in the `solve` method: less lines and less optional arguments means easier to understand.\n",
    "\n",
    "Let us look at some useful examples."
   ]
  },
  {
   "cell_type": "markdown",
   "metadata": {},
   "source": [
    "## The Progression Callback\n",
    "We take a look at a basic Progression Callback. We can add some different verbose levels to adjust the number of outputs if we want."
   ]
  },
  {
   "cell_type": "code",
   "execution_count": 5,
   "metadata": {},
   "outputs": [],
   "source": [
    "class Progression(Callback):\n",
    "    \"\"\"\n",
    "    This callback follows progression of the algorithm by printing at every steps.\n",
    "    \n",
    "    The verbose level are 0, 1 or 2.\n",
    "    \"\"\"\n",
    "    def __init__(self, verbose_level=1):\n",
    "        self.verbose_level = verbose_level\n",
    "    \n",
    "    def before_part_1(self, *args, **kwargs):\n",
    "        print('Starting algorithm.')\n",
    "    \n",
    "    def after_part_1(self, *args, **kwargs):\n",
    "        if self.verbose_level >= 1:\n",
    "            print('Part 1 completed.')\n",
    "        \n",
    "    def before_part_2(self, *args, **kwargs):\n",
    "        if self.verbose_level >= 2:\n",
    "            print('We talk about part 2 of algorithm only if verbose is set high.')\n",
    "        \n",
    "    def after_part_2(self, *args, **kwargs):\n",
    "        print('Finished algorithm')"
   ]
  },
  {
   "cell_type": "code",
   "execution_count": 6,
   "metadata": {},
   "outputs": [
    {
     "name": "stdout",
     "output_type": "stream",
     "text": [
      "Starting algorithm.\n",
      "Part 1 completed.\n",
      "Finished algorithm\n"
     ]
    }
   ],
   "source": [
    "# Usage example\n",
    "callbacks_list = [Progression()]\n",
    "problem_solver = ProblemSolver().solve(1, callbacks_list)"
   ]
  },
  {
   "cell_type": "code",
   "execution_count": 7,
   "metadata": {},
   "outputs": [
    {
     "name": "stdout",
     "output_type": "stream",
     "text": [
      "Starting algorithm.\n",
      "Part 1 completed.\n",
      "We talk about part 2 of algorithm only if verbose is set high.\n",
      "Finished algorithm\n"
     ]
    }
   ],
   "source": [
    "# Usage example\n",
    "callbacks_list = [Progression(verbose_level=2)]\n",
    "problem_solver = ProblemSolver().solve(1, callbacks_list)"
   ]
  },
  {
   "cell_type": "markdown",
   "metadata": {},
   "source": [
    "Another way of extending this callback would be to add an optional argument in the constructor to change the output from the terminal to a file for example."
   ]
  },
  {
   "cell_type": "markdown",
   "metadata": {},
   "source": [
    "## The Checkpoint Callback\n",
    "Another useful action is to make a checkpoint of the model or the result after some steps to be able to retrieve it (at least partially) if something goes wrong. Here is an simple implementation."
   ]
  },
  {
   "cell_type": "code",
   "execution_count": 8,
   "metadata": {},
   "outputs": [],
   "source": [
    "import pickle as pkl\n",
    "\n",
    "class Checkpoint(Callback):\n",
    "    def __init__(self, filename, path='./', **pickling_kwargs):\n",
    "        self.filename = filename\n",
    "        self.path = path\n",
    "        self.pickling_kwargs = pickling_kwargs\n",
    "    \n",
    "    def after_part_1(self, *args, **kwargs):\n",
    "        model = self,\n",
    "        self.save(model)\n",
    "    \n",
    "    def after_part_2(self, *args, **kwargs):\n",
    "        model = self,\n",
    "        self.save(model)\n",
    "    \n",
    "    def save(self, model):\n",
    "        print(f'Saving model checkpoint to {self.path + self.filename}')\n",
    "        with open(self.path + self.filename, 'wb') as file:\n",
    "            pkl.dump(model, file, **self.pickling_kwargs)"
   ]
  },
  {
   "cell_type": "code",
   "execution_count": 9,
   "metadata": {},
   "outputs": [
    {
     "name": "stdout",
     "output_type": "stream",
     "text": [
      "Saving model checkpoint to ./test.pkl\n",
      "Saving model checkpoint to ./test.pkl\n"
     ]
    }
   ],
   "source": [
    "# Usage example\n",
    "callbacks_list = [Checkpoint(filename='test.pkl')]\n",
    "problem_solver = ProblemSolver().solve(1, callbacks_list)"
   ]
  },
  {
   "cell_type": "markdown",
   "metadata": {},
   "source": [
    "It goes without saying that this callback is more essential when the algorithm is an iterative long one.\n",
    "\n",
    "As a last section, let us abstract callbacks one more level to simplify the code when there are many."
   ]
  },
  {
   "cell_type": "markdown",
   "metadata": {},
   "source": [
    "## The CallbackList\n",
    "A CallbackList is an object which mimicks the behavior of a Callback and of a list at the same time."
   ]
  },
  {
   "cell_type": "code",
   "execution_count": 10,
   "metadata": {},
   "outputs": [],
   "source": [
    "class CallbackList:\n",
    "    \"\"\"\n",
    "    This class mimicks the behavior of a Callback and of a list at the same time.\n",
    "    \"\"\"\n",
    "    def __init__(self, callbacks_list):\n",
    "        \"\"\"\n",
    "        Args:\n",
    "            callbacks_list (iterable): An iterable of Callback objects.\n",
    "        \"\"\"\n",
    "        self._callbacks_list = [callback for callback in callbacks_list]\n",
    "    \n",
    "    def append(self, item):\n",
    "        self._callbacks_list.append(item)\n",
    "    \n",
    "    def __iter__(self):\n",
    "        yield from self._callbacks_list\n",
    "\n",
    "    def before_part_1(self, *args, **kwargs):\n",
    "        for callback in self: callback.before_part_1(self, *args, **kwargs)\n",
    "    \n",
    "    def after_part_1(self, *args, **kwargs):\n",
    "        for callback in self: callback.after_part_1(self, *args, **kwargs)\n",
    "\n",
    "    def before_part_2(self, *args, **kwargs):\n",
    "        for callback in self: callback.before_part_2(self, *args, **kwargs)\n",
    "\n",
    "    def after_part_2(self, *args, **kwargs):\n",
    "        for callback in self: callback.after_part_2(self, *args, **kwargs)\n",
    "    "
   ]
  },
  {
   "cell_type": "markdown",
   "metadata": {},
   "source": [
    "Now, the `ProblemSolver` code becomes"
   ]
  },
  {
   "cell_type": "code",
   "execution_count": 11,
   "metadata": {},
   "outputs": [],
   "source": [
    "class ProblemSolver:\n",
    "    def solve(self, data_for_the_algo, callbacks_list):\n",
    "        \n",
    "        things_callbacks_need = (self,) # A reference to the current object is often needed by the callbacks\n",
    "        callbacks = CallbackList(callbacks_list)\n",
    "        \n",
    "        # Before part 1\n",
    "        callbacks.before_part_1(things_callbacks_need)\n",
    "        # Part 1\n",
    "        self.solve_part_1(data_for_the_algo)\n",
    "        # After part 1\n",
    "        callbacks.after_part_1(things_callbacks_need)\n",
    "        \n",
    "        # Maybe some line of codes\n",
    "        \n",
    "        # Before part 2\n",
    "        callbacks.before_part_2(things_callbacks_need)\n",
    "        # Part 2\n",
    "        self.solve_part_2(data_for_the_algo)\n",
    "        # After part 2\n",
    "        callbacks.after_part_2(things_callbacks_need)\n",
    "        \n",
    "        return self\n",
    "    \n",
    "    def solve_part_1(self, data): pass\n",
    "    \n",
    "    def solve_part_2(self, data): pass"
   ]
  },
  {
   "cell_type": "code",
   "execution_count": 12,
   "metadata": {},
   "outputs": [
    {
     "name": "stdout",
     "output_type": "stream",
     "text": [
      "Starting algorithm.\n",
      "Saving model checkpoint to ./test.pkl\n",
      "Part 1 completed.\n",
      "Saving model checkpoint to ./test.pkl\n",
      "Finished algorithm\n"
     ]
    }
   ],
   "source": [
    "# Usage example\n",
    "callbacks_list = [Checkpoint(filename='test.pkl')]\n",
    "callbacks_list.append(Progression())\n",
    "problem_solver = ProblemSolver().solve(1, callbacks_list)"
   ]
  },
  {
   "cell_type": "code",
   "execution_count": null,
   "metadata": {},
   "outputs": [],
   "source": []
  }
 ],
 "metadata": {
  "kernelspec": {
   "display_name": "Python 3",
   "language": "python",
   "name": "python3"
  },
  "language_info": {
   "codemirror_mode": {
    "name": "ipython",
    "version": 3
   },
   "file_extension": ".py",
   "mimetype": "text/x-python",
   "name": "python",
   "nbconvert_exporter": "python",
   "pygments_lexer": "ipython3",
   "version": "3.6.6"
  }
 },
 "nbformat": 4,
 "nbformat_minor": 2
}
