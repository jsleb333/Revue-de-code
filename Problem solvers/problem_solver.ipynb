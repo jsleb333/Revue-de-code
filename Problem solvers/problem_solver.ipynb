{
 "cells": [
  {
   "cell_type": "markdown",
   "metadata": {},
   "source": [
    "# Problem solvers\n",
    "This notebook aims to show some interfaces useful to implement an algorithm that solves a particular problem. We present 3 cases in increase order of complexity."
   ]
  },
  {
   "cell_type": "markdown",
   "metadata": {},
   "source": [
    "## The simple function\n",
    "The simplest way to implement a solver is to use a simple function such as"
   ]
  },
  {
   "cell_type": "code",
   "execution_count": 4,
   "metadata": {},
   "outputs": [],
   "source": [
    "def solve_problem(X, Y, a=1, b=None):\n",
    "    \"\"\"This function solves problem P by using algorithm A.\n",
    "    \n",
    "        Args:\n",
    "            X: ...\n",
    "            Y: ...\n",
    "            a: ...\n",
    "            b: ...\n",
    "        \n",
    "        Returns:\n",
    "            result: ...\n",
    "        \"\"\"\n",
    "    \n",
    "    # Preprocessing\n",
    "    # ...\n",
    "    \n",
    "    # Algorithm\n",
    "    for i in range(a):\n",
    "        # do stuff\n",
    "        pass\n",
    "    \n",
    "    # Postprocessing\n",
    "    # ...\n",
    "    result = b or Y\n",
    "    \n",
    "    return result"
   ]
  },
  {
   "cell_type": "code",
   "execution_count": 5,
   "metadata": {},
   "outputs": [
    {
     "data": {
      "text/plain": [
       "2"
      ]
     },
     "execution_count": 5,
     "metadata": {},
     "output_type": "execute_result"
    }
   ],
   "source": [
    "solve_problem(1,2)"
   ]
  },
  {
   "cell_type": "code",
   "execution_count": 6,
   "metadata": {},
   "outputs": [
    {
     "data": {
      "text/plain": [
       "'b'"
      ]
     },
     "execution_count": 6,
     "metadata": {},
     "output_type": "execute_result"
    }
   ],
   "source": [
    "solve_problem(1,2,b='b')"
   ]
  },
  {
   "cell_type": "markdown",
   "metadata": {},
   "source": [
    "This method has advantages and disadvantages, for examples:\n",
    "\n",
    "Advantages:\n",
    "- Architecture simple to understand.\n",
    "- Quick to implement.\n",
    "\n",
    "Disadvantages:\n",
    "- Can be hard to read if there are several parameters and options and hundreds of lines of code.\n",
    "- Not flexible: Adding a variant to the algorithm implies either copy the whole function (very bad) to change some lines, or to add parameters and cases, which impairs readability.\n",
    "- \"Burnable\": Once executed, the only thing left is the result. There is no trace of the algorithm, nor metadata, etc.\n",
    "- No API: The solver does not provide ways to handle the result, such as saving or loading data, and treating or vizualizing the results.\n",
    "\n",
    "When to use it:\n",
    "- The algorithm is _short_ and _basic_: straightforward procedure, limited pre- and postprocessing.\n",
    "- The problem is _narrow_: Not many parameters, no variant of the algorithm.\n",
    "- The returned result is _simple_ and is a _standalone_: It is an instance of a base type and easy to handle.\n",
    "\n",
    "It can be useful as a first implementation of something needed now, but that will eventually be changed to satisfy more need. A hint that this approach is not the right model is that the function is too long, or that is uses many subroutines that are defined exclusively for this solver."
   ]
  },
  {
   "cell_type": "markdown",
   "metadata": {},
   "source": [
    "## The single class\n",
    "The next to simplest case is the use of a class. This model is very more flexible, but sometime at the cost of some clarity. Let us take a look at a template:"
   ]
  },
  {
   "cell_type": "code",
   "execution_count": 5,
   "metadata": {},
   "outputs": [],
   "source": [
    "class ProblemSolver:\n",
    "    \"\"\"\n",
    "    This class solves problem P with algorithm A.\n",
    "    It provides a lot of flexibility via parameters and the constructor.\n",
    "    It also implements an API to easily handle the results and the model.\n",
    "    \"\"\"\n",
    "    def __init__(self, param_specific_to_the_algorithm):\n",
    "        \"\"\"\n",
    "        Some doc...\n",
    "        \n",
    "        Parameters passed here should be about the algorithm, not about the problem to solve.\n",
    "        \"\"\"\n",
    "        self.param_specific_to_the_algorithm = param_specific_to_the_algorithm\n",
    "        \n",
    "        # Preprocessing part of the algorithm\n",
    "        # ...\n",
    "    \n",
    "    def solve(self, param_specific_to_the_instance_of_the_problem):\n",
    "        \"\"\"\n",
    "        Explanations about the problem, algorithm and parameters.\n",
    "        \n",
    "        Parameters passed here should concern only the problem at hand, not the algorithm.\n",
    "        \"\"\"\n",
    "        \n",
    "        data = self.preprocess_data(param_specific_to_the_instance_of_the_problem)\n",
    "        \n",
    "        for i in range(1):\n",
    "            # do stuff to data\n",
    "            data = self.solve_part1(data)\n",
    "            data = self.solve_part2(data)\n",
    "            result = data\n",
    "            pass\n",
    "        \n",
    "        # Note how we can attach the result to the solver itself so that it can carry many more things.\n",
    "        self.result = self.postprocess_result(result, param_specific_to_the_instance_of_the_problem)\n",
    "        # However, note that we did not attach data to the class since it is not useful once the algorithm is completed (keep in mind the lifespan of the variables).\n",
    "        \n",
    "        return self # Returns self for convenience.\n",
    "    \n",
    "    def preprocess_data(self, param):\n",
    "        \"\"\"\n",
    "        This preprocessing function should be omitted if it is very simple and obvious.\n",
    "        \"\"\"\n",
    "        # do stuff\n",
    "        return param\n",
    "    \n",
    "    def postprocess_result(self, result, param):\n",
    "        \"\"\"\n",
    "        This postprocessing function should be omitted if it is very simple and obvious.\n",
    "        \"\"\"\n",
    "        # do stuff\n",
    "        return param\n",
    "    \n",
    "    def solve_part1(self, data):\n",
    "        \"\"\"\n",
    "        Computes part 1 of algorithm.\n",
    "        \"\"\"\n",
    "        return data\n",
    "\n",
    "    def solve_part2(self, data):\n",
    "        \"\"\"\n",
    "        Computes part 2 of algorithm.\n",
    "        \"\"\"\n",
    "        return data\n",
    "    \n",
    "    # API functions\n",
    "    def save(self, filename):\n",
    "        # save self to file\n",
    "        pass\n",
    "    \n",
    "    @staticmethod # The 'staticmethod' decorator makes that the method does not need to use 'self'. The method can them be used without instanciating the class.\n",
    "    def load(filename):\n",
    "        \"\"\"\n",
    "        Should look like:\n",
    "        \n",
    "        loaded_model = pickle.load(filename)\n",
    "        return loaded_model\n",
    "        \"\"\"\n",
    "        pass\n",
    "    \n",
    "    def vizualize(self):\n",
    "        \"\"\"\n",
    "        Do something with results and saved parameters.\n",
    "        \"\"\"\n",
    "        print(self.result)\n",
    "    \n",
    "    # Other API implementations are data model functions (i.e. __methods__)\n",
    "    def __len__(self):\n",
    "        return len(self.result)\n",
    "    \n",
    "    def __iter__(self):\n",
    "        yield from self.result\n",
    "    \n",
    "    def __str__(self):\n",
    "        return str(self.param_specific_to_the_algorithm)"
   ]
  },
  {
   "cell_type": "code",
   "execution_count": 6,
   "metadata": {},
   "outputs": [
    {
     "name": "stdout",
     "output_type": "stream",
     "text": [
      "my problem\n"
     ]
    }
   ],
   "source": [
    "solver = ProblemSolver('algo params').solve('my problem')\n",
    "solver.vizualize()"
   ]
  },
  {
   "cell_type": "markdown",
   "metadata": {},
   "source": [
    "Let us take a look at advantages and disadvantages.\n",
    "\n",
    "Advantages:\n",
    "- Easy to understand each part individually.\n",
    "- Customization of the algorithm is separated from the specific problem (i.e. constructor initialization vs solve method).\n",
    "- Metadata and important parameters/information can be stored in the solver alongside with the result.\n",
    "- API is integrated directly in the solver, making it easy to handle the result, but also the solver itself.\n",
    "- Major algorithm variants can be implemented via inheritance instead of a parameter in the constructor for more clarity.\n",
    "- Easy to extend as it is a class.\n",
    "\n",
    "Disadvantages:\n",
    "- Quite involved to write.\n",
    "- Sometime harder to understand the mechanics as a whole when things become convoluted.\n",
    "\n",
    "When to use it:\n",
    "- The result needs special ways to be processed and handled.\n",
    "- Metadata and information about the procedure are important.\n",
    "- The algorihtm and the problem takes many parameters and come in many variants.\n",
    "- The algorithm is _not long_ and/or _not very complex_.\n",
    "\n",
    "Be aware that the class should not store unecessary attributes. For example, you do not want to store the problem parameters  if they are not useful once the algorithm is completed because they take space in memory and pollute the namespace.\n",
    "\n",
    "This approach turns out to be very powerful. However, sometime the algorithm is long and complex and the class becomes very long and hard to understand. In that case, it is better to uses the next method I propose."
   ]
  },
  {
   "cell_type": "markdown",
   "metadata": {},
   "source": [
    "## The API-Algorithm-Result class scheme\n",
    "When the class becomes too burden, it is generally a good idea to split it in three parts: the API, the Algorithm and the Result. This aims to increase greatly readability and clarity. It goes as follow."
   ]
  },
  {
   "cell_type": "code",
   "execution_count": 7,
   "metadata": {},
   "outputs": [],
   "source": [
    "class ProblemSolver:\n",
    "    \"\"\"\n",
    "    This is the API: the interface between user and the algorithm.\n",
    "    It does not actually solves the problem; it delegates it to an other class not meant to be used by a user.\n",
    "    However, it does provides methods to easily work with the algorithm.\n",
    "    \n",
    "    The implementation should be identical to the one written above, with the exception of the 'solve' method\n",
    "    and that the 'solve_part1' and 'solve_part2' that are not present.\n",
    "    \"\"\"\n",
    "    def solve(self, param_specific_to_the_instance_of_the_problem):\n",
    "        algorithm = Algorithm(self.param_specific_to_the_algorithm, param_specific_to_the_instance_of_the_problem)\n",
    "        self.result = algorithm.solve()\n",
    "        \n",
    "        return self\n",
    "    \n",
    "class Algorithm:\n",
    "    \"\"\"\n",
    "    This class implements algorithm A. Should be used through ProblemSolver.\n",
    "    \"\"\"\n",
    "    def __init__(self, algo_param, problem_param):\n",
    "        self.algo_param = algo_param\n",
    "        self.problem_param = problem_param # Note that we can save the parameters of the problem inside the class since the class has a limited lifespan.\n",
    "        # Preprocessing\n",
    "        # ...\n",
    "    \n",
    "    def solve(self):\n",
    "        \n",
    "        for i in range(1):\n",
    "            # do stuff\n",
    "            # Note that we do not have to pass parameters anymore since they can be accessed throught the attributes of the class.\n",
    "            self.solve_part1()\n",
    "            result = self.solve_part2()\n",
    "            pass\n",
    "        \n",
    "        self.result_part1 = result.result_part1\n",
    "        self.result_part2 = result.result_part2\n",
    "        \n",
    "        return self\n",
    "            \n",
    "    def solve_part1(self):\n",
    "        \"\"\"\n",
    "        Computes part 1 of algorithm.\n",
    "        \"\"\"\n",
    "        # Do stuff to self.problem_param\n",
    "        self.problem_param += 1\n",
    "\n",
    "    def solve_part2(self):\n",
    "        \"\"\"\n",
    "        Computes part 2 of algorithm.\n",
    "        \"\"\"\n",
    "        return Result(self.problem_param)\n",
    "        \n",
    "\n",
    "class Result:\n",
    "    \"\"\"\n",
    "    This class implements a composite result with many attributes.\n",
    "    \n",
    "    It facilitates the transfer of a result from the algorithm to the API.\n",
    "    It can act as an augmented dictionary (or list).\n",
    "    It can also provides basic method to handle the data, like packing and unpacking.\n",
    "    It is not always useful to implement this object.\n",
    "    It is appropriate to use properties in this kind of object.\n",
    "    \"\"\"\n",
    "    def __init__(self, result_part1, result_part2):\n",
    "        self.result_part1 = result_part1\n",
    "        self.result_part2 = result_part2\n",
    "    \n",
    "    def update(self, result_part1, result_part2):\n",
    "        \"\"\"\n",
    "        For example, update only if result_part is better than previous.\n",
    "        \"\"\"\n",
    "        if result_part1 > self.result_part1:\n",
    "            self.result_part1 = result_part1\n",
    "            \n",
    "        if result_part2 > self.result_part2:\n",
    "            self.result_part2 = result_part2\n",
    "        "
   ]
  },
  {
   "cell_type": "markdown",
   "metadata": {},
   "source": [
    "Advantages:\n",
    "- Very modular implementation: easy to understand each role and to modify any part.\n",
    "- Very flexible.\n",
    "- All advantages of the single class.\n",
    "\n",
    "Disadvantages:\n",
    "- Can be hard to understand as a whole.\n",
    "- Very involved to write.\n",
    "\n",
    "When to use it:\n",
    "- The algorithm is long and complex.\n",
    "- All other cases of the single class.\n",
    "\n",
    "Hints you should opt for this scheme:\n",
    "- The algorithm is splitted in many sub parts.\n",
    "- Theses subparts uses the same parameters: creating a class and storing parameters as attributes can make it easy to them and can increase clarity. A good hint is to keep in mind the lifespan of your variables. "
   ]
  },
  {
   "cell_type": "code",
   "execution_count": null,
   "metadata": {},
   "outputs": [],
   "source": []
  }
 ],
 "metadata": {
  "kernelspec": {
   "display_name": "Python 3",
   "language": "python",
   "name": "python3"
  },
  "language_info": {
   "codemirror_mode": {
    "name": "ipython",
    "version": 3
   },
   "file_extension": ".py",
   "mimetype": "text/x-python",
   "name": "python",
   "nbconvert_exporter": "python",
   "pygments_lexer": "ipython3",
   "version": "3.6.6"
  }
 },
 "nbformat": 4,
 "nbformat_minor": 2
}
