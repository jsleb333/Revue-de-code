{
 "cells": [
  {
   "cell_type": "markdown",
   "metadata": {},
   "source": [
    "# What is a _for_ loop?\n",
    "\n",
    "## Classical _for_"
   ]
  },
  {
   "cell_type": "code",
   "execution_count": 2,
   "metadata": {},
   "outputs": [
    {
     "name": "stdout",
     "output_type": "stream",
     "text": [
      "0\n",
      "1\n",
      "2\n",
      "3\n",
      "4\n"
     ]
    }
   ],
   "source": [
    "for i in range(5):\n",
    "    # Body of for loop\n",
    "    print(i)"
   ]
  },
  {
   "cell_type": "markdown",
   "metadata": {},
   "source": [
    "## Under the hood\n",
    "\n",
    "How can we customize its behavior? To this end, we need to know what is under the hood of this syntax. This little script is roughly equivalent to the _for_ loop."
   ]
  },
  {
   "cell_type": "code",
   "execution_count": 11,
   "metadata": {},
   "outputs": [
    {
     "name": "stdout",
     "output_type": "stream",
     "text": [
      "0\n",
      "1\n",
      "2\n",
      "3\n",
      "4\n"
     ]
    }
   ],
   "source": [
    "generator = range(5) # Instanciating the 'range' class returns a 'generator'\n",
    "iterator = iter(generator) # A generator must return an iterator when we call 'iter' on it.\n",
    "while True:\n",
    "    try:\n",
    "        i = next(iterator) # Calling 'next' on 'iterator' returns the next value in line.\n",
    "    except StopIteration: # Once the last value has been reached, a StopIteration exception is raised\n",
    "        break\n",
    "    \n",
    "    # Body of for loop\n",
    "    print(i)"
   ]
  },
  {
   "cell_type": "markdown",
   "metadata": {},
   "source": [
    "# Generator/Iterator classes\n",
    "\n",
    "## What is a generator?\n",
    "A generator is a class that defines the '\\_\\_iter__' method"
   ]
  },
  {
   "cell_type": "code",
   "execution_count": 20,
   "metadata": {},
   "outputs": [],
   "source": [
    "class Generator:\n",
    "    \"\"\"\n",
    "    Defines the __iter__ method.\n",
    "    \"\"\"\n",
    "    def __iter__(self):\n",
    "        print('Creating an iterator')\n",
    "        return Iterator()"
   ]
  },
  {
   "cell_type": "markdown",
   "metadata": {},
   "source": [
    "## What is an iterator?\n",
    "An iterator is a class that defines the '\\_\\_next__' method."
   ]
  },
  {
   "cell_type": "code",
   "execution_count": 23,
   "metadata": {},
   "outputs": [],
   "source": [
    "class Iterator:\n",
    "    \"\"\"\n",
    "    Defines the __next__ method.\n",
    "    \"\"\"\n",
    "    def __next__(self):\n",
    "        \"\"\"\n",
    "        Should raise StopIteration when iteration is finished.\n",
    "        \"\"\"\n",
    "        print('Raising StopIteration')\n",
    "        raise StopIteration"
   ]
  },
  {
   "cell_type": "markdown",
   "metadata": {},
   "source": [
    "This is the minimum necessary to customize the behavior of the for loop:"
   ]
  },
  {
   "cell_type": "code",
   "execution_count": 24,
   "metadata": {},
   "outputs": [
    {
     "name": "stdout",
     "output_type": "stream",
     "text": [
      "Creating an iterator\n",
      "Raising StopIteration\n"
     ]
    }
   ],
   "source": [
    "for i in Generator():\n",
    "    pass"
   ]
  },
  {
   "cell_type": "markdown",
   "metadata": {},
   "source": [
    "## Generator-Iterator\n",
    "\n",
    "Generators and iterators are intertwined notions, since they can be both at the same time "
   ]
  },
  {
   "cell_type": "code",
   "execution_count": 25,
   "metadata": {},
   "outputs": [],
   "source": [
    "class GeneratorIterator:\n",
    "    def __iter__(self):\n",
    "        # Initialize the iterator\n",
    "        print('The iterator is itself')\n",
    "        return self\n",
    "    def __next__(self):\n",
    "        print('Raising StopIteration')\n",
    "        raise StopIteration"
   ]
  },
  {
   "cell_type": "code",
   "execution_count": 26,
   "metadata": {},
   "outputs": [
    {
     "name": "stdout",
     "output_type": "stream",
     "text": [
      "The iterator is itself\n",
      "Raising StopIteration\n"
     ]
    }
   ],
   "source": [
    "for i in GeneratorIterator():\n",
    "    pass"
   ]
  },
  {
   "cell_type": "markdown",
   "metadata": {},
   "source": [
    "# Examples with the '\\_\\_next__' implementation\n",
    "\n",
    "Let us show how this works by simulating common `Python` generators.\n",
    "\n",
    "## The _range_ generator"
   ]
  },
  {
   "cell_type": "code",
   "execution_count": 47,
   "metadata": {},
   "outputs": [],
   "source": [
    "class Range:\n",
    "    \"\"\"\n",
    "    Emulation of 'range' generator.\n",
    "    \"\"\"\n",
    "    def __init__(self, start, stop=None, stride=1):\n",
    "        if stop is None:\n",
    "            stop = start\n",
    "            start = 0\n",
    "        self.start = start\n",
    "        self.stop = stop\n",
    "        self.stride = stride\n",
    "\n",
    "    def __iter__(self):\n",
    "        self.current = self.start - self.stride # minus self.stride to compensate the first increment in __next__.\n",
    "        return self\n",
    "        \n",
    "    def __next__(self):\n",
    "        self.current += self.stride # Increments self.current\n",
    "        if self.current >= self.stop:\n",
    "            raise StopIteration\n",
    "        return self.current\n",
    "    \n",
    "    def __len__(self):\n",
    "        return (self.stop - self.start)//self.stride"
   ]
  },
  {
   "cell_type": "code",
   "execution_count": 48,
   "metadata": {},
   "outputs": [
    {
     "name": "stdout",
     "output_type": "stream",
     "text": [
      "3\n",
      "5\n",
      "7\n",
      "9\n"
     ]
    }
   ],
   "source": [
    "for i in Range(3,10,2):\n",
    "    print(i)"
   ]
  },
  {
   "cell_type": "markdown",
   "metadata": {},
   "source": [
    "## The _zip_ generator"
   ]
  },
  {
   "cell_type": "code",
   "execution_count": 63,
   "metadata": {},
   "outputs": [],
   "source": [
    "class Zip:\n",
    "    \"\"\"\n",
    "    Emulation of the 'zip' generator.\n",
    "    \"\"\"\n",
    "    def __init__(self, *generators):\n",
    "        self.generators = generators\n",
    "\n",
    "    def __iter__(self):\n",
    "        self.iterators = [iter(gen) for gen in self.generators] # Initializing every sub-iterators\n",
    "        return self\n",
    "\n",
    "    def __next__(self):\n",
    "        return tuple([next(it) for it in self.iterators]) # Calling next on all sub-iterators"
   ]
  },
  {
   "cell_type": "code",
   "execution_count": 64,
   "metadata": {},
   "outputs": [
    {
     "name": "stdout",
     "output_type": "stream",
     "text": [
      "3 0\n",
      "5 1\n",
      "7 2\n",
      "9 3\n"
     ]
    }
   ],
   "source": [
    "for i, j in Zip(Range(3,10,2), Range(6)):\n",
    "    print(i, j)"
   ]
  },
  {
   "cell_type": "markdown",
   "metadata": {},
   "source": [
    "Note how the _Zip_ generator stops with the shortest generator. It stops at the first _StopIteration_ raised.\n",
    "\n",
    "## The _enumerate_ generator"
   ]
  },
  {
   "cell_type": "code",
   "execution_count": 69,
   "metadata": {},
   "outputs": [],
   "source": [
    "class Enumerate:\n",
    "    \"\"\"\n",
    "    Emulation of the 'enumerate' generator.\n",
    "    \"\"\"\n",
    "    def __init__(self, generator):\n",
    "        self.generator = generator\n",
    "\n",
    "    def __iter__(self):\n",
    "        self.i = -1\n",
    "        self.iterator = iter(self.generator)\n",
    "        return self\n",
    "\n",
    "    def __next__(self):\n",
    "        self.i += 1\n",
    "        return (self.i, next(self.iterator))"
   ]
  },
  {
   "cell_type": "code",
   "execution_count": 72,
   "metadata": {},
   "outputs": [
    {
     "name": "stdout",
     "output_type": "stream",
     "text": [
      "0 3 2\n",
      "1 5 3\n",
      "2 7 4\n",
      "3 9 5\n"
     ]
    }
   ],
   "source": [
    "for i, (a, b) in Enumerate(Zip(Range(3,10,2), Range(2,6))):\n",
    "    print(i, a, b)"
   ]
  },
  {
   "cell_type": "markdown",
   "metadata": {},
   "source": [
    "Note how we can unpack the tuple directly in the declaration of the _for_ loop."
   ]
  },
  {
   "cell_type": "markdown",
   "metadata": {},
   "source": [
    "# The _yield_ statement\n",
    "\n",
    "There is an easier and simpler way to define (short) generator in `Python` using the keyword _yield_. It uses the classical syntax of a function definition."
   ]
  },
  {
   "cell_type": "code",
   "execution_count": 74,
   "metadata": {},
   "outputs": [],
   "source": [
    "def range_generator(stop):\n",
    "    i = 0\n",
    "    while i < stop:\n",
    "        yield i\n",
    "        i += 1\n",
    "    # No return statement will implicitely return None"
   ]
  },
  {
   "cell_type": "code",
   "execution_count": 75,
   "metadata": {},
   "outputs": [
    {
     "name": "stdout",
     "output_type": "stream",
     "text": [
      "0\n",
      "1\n",
      "2\n",
      "3\n",
      "4\n"
     ]
    }
   ],
   "source": [
    "for i in range_generator(5):\n",
    "    print(i)"
   ]
  },
  {
   "cell_type": "markdown",
   "metadata": {},
   "source": [
    "This generator will execute the function until it encounters a yield. It will then hang there until the next() call, where the rest of the function will be executed. When it runs into a _return_, the following next() call will raise StopIteration. Note that if a function does not have a return statement, an implicit None will be returned at the end."
   ]
  },
  {
   "cell_type": "code",
   "execution_count": 76,
   "metadata": {},
   "outputs": [
    {
     "ename": "StopIteration",
     "evalue": "",
     "output_type": "error",
     "traceback": [
      "\u001b[0;31m---------------------------------------------------------------------------\u001b[0m",
      "\u001b[0;31mStopIteration\u001b[0m                             Traceback (most recent call last)",
      "\u001b[0;32m<ipython-input-76-6dada1b6d4c4>\u001b[0m in \u001b[0;36m<module>\u001b[0;34m()\u001b[0m\n\u001b[1;32m      2\u001b[0m \u001b[0mit\u001b[0m \u001b[0;34m=\u001b[0m \u001b[0miter\u001b[0m\u001b[0;34m(\u001b[0m\u001b[0mgen\u001b[0m\u001b[0;34m)\u001b[0m\u001b[0;34m\u001b[0m\u001b[0m\n\u001b[1;32m      3\u001b[0m \u001b[0;32mwhile\u001b[0m \u001b[0;32mTrue\u001b[0m\u001b[0;34m:\u001b[0m\u001b[0;34m\u001b[0m\u001b[0m\n\u001b[0;32m----> 4\u001b[0;31m     \u001b[0mnext\u001b[0m\u001b[0;34m(\u001b[0m\u001b[0mit\u001b[0m\u001b[0;34m)\u001b[0m\u001b[0;34m\u001b[0m\u001b[0m\n\u001b[0m",
      "\u001b[0;31mStopIteration\u001b[0m: "
     ]
    }
   ],
   "source": [
    "gen = range_generator(5)\n",
    "it = iter(gen)\n",
    "while True:\n",
    "    next(it) # Will raise a StopIteration exception"
   ]
  },
  {
   "cell_type": "markdown",
   "metadata": {},
   "source": [
    "## Examples revisited with the _yield_ statement\n",
    "\n",
    "The _yield_ statement can simplify greatly some generator and are recommended when they can be used. The \\_\\_next__ method should be used only when the _yield_ generator gets complicated and separating the two clarifies the code, or in case there are conflict with older code, since in `Python 2.x`, _yield_ must be imported from \\_\\_future__.\n",
    "\n",
    "### The _range_ generator"
   ]
  },
  {
   "cell_type": "code",
   "execution_count": 81,
   "metadata": {},
   "outputs": [],
   "source": [
    "class RangeYield:\n",
    "    \"\"\"\n",
    "    Emulation of 'range' generator using the 'yield' statement.\n",
    "    \"\"\"\n",
    "    def __init__(self, start, stop=None, stride=1):\n",
    "        if stop is None:\n",
    "            stop = start\n",
    "            start = 0\n",
    "        self.start = start\n",
    "        self.stop = stop\n",
    "        self.stride = stride\n",
    "\n",
    "    def __iter__(self):\n",
    "        current = self.start\n",
    "        while current < self.stop:\n",
    "            yield current\n",
    "            current += self.stride\n",
    "\n",
    "    def __len__(self):\n",
    "        return (self.stop - self.start)//self.stride"
   ]
  },
  {
   "cell_type": "code",
   "execution_count": 82,
   "metadata": {},
   "outputs": [
    {
     "name": "stdout",
     "output_type": "stream",
     "text": [
      "3\n",
      "5\n",
      "7\n",
      "9\n"
     ]
    }
   ],
   "source": [
    "for i in RangeYield(3,10,2):\n",
    "    print(i)"
   ]
  },
  {
   "cell_type": "markdown",
   "metadata": {},
   "source": [
    "### The _zip_ generator"
   ]
  },
  {
   "cell_type": "code",
   "execution_count": 84,
   "metadata": {},
   "outputs": [],
   "source": [
    "class ZipYield:\n",
    "    \"\"\"\n",
    "    Emulation of the 'zip' generator using the 'yield' statement.\n",
    "    \"\"\"\n",
    "    def __init__(self, *generators):\n",
    "        self.generators = generators\n",
    "\n",
    "    def __iter__(self):\n",
    "        iterators = [iter(gen) for gen in self.generators] # Initializing every sub-iterators\n",
    "        while True:\n",
    "            return tuple([next(iterator) for iterator in iterators])"
   ]
  },
  {
   "cell_type": "code",
   "execution_count": 85,
   "metadata": {},
   "outputs": [
    {
     "name": "stdout",
     "output_type": "stream",
     "text": [
      "3 0\n",
      "5 1\n",
      "7 2\n",
      "9 3\n"
     ]
    }
   ],
   "source": [
    "for i, j in Zip(Range(3,10,2), Range(6)):\n",
    "    print(i, j)"
   ]
  },
  {
   "cell_type": "markdown",
   "metadata": {},
   "source": [
    "### The _enumerate_ generator"
   ]
  },
  {
   "cell_type": "code",
   "execution_count": 86,
   "metadata": {},
   "outputs": [],
   "source": [
    "class Enumerate:\n",
    "    \"\"\"\n",
    "    Emulation of the 'enumerate' generator using the 'yield' statement.\n",
    "    \"\"\"\n",
    "    def __init__(self, generator):\n",
    "        self.generator = generator\n",
    "\n",
    "    def __iter__(self):\n",
    "        i = 0\n",
    "        for val in self.generator:\n",
    "            yield (i, val)\n",
    "            i += 1"
   ]
  },
  {
   "cell_type": "code",
   "execution_count": 87,
   "metadata": {},
   "outputs": [
    {
     "name": "stdout",
     "output_type": "stream",
     "text": [
      "0 3 2\n",
      "1 5 3\n",
      "2 7 4\n",
      "3 9 5\n"
     ]
    }
   ],
   "source": [
    "for i, (a, b) in Enumerate(Zip(Range(3,10,2), Range(2,6))):\n",
    "    print(i, a, b)"
   ]
  },
  {
   "cell_type": "markdown",
   "metadata": {},
   "source": [
    "## The _yield from_ statement\n",
    "\n",
    "`Python 3.3` introduces the _yield from_ statement to delegate generators to other generators. They simply a little bit the syntax, but they are mainly useful for more advanced use of generators (coroutines with the methods iterator.send() and iterator.throw()).\n",
    "\n",
    "The following example:"
   ]
  },
  {
   "cell_type": "code",
   "execution_count": 96,
   "metadata": {},
   "outputs": [
    {
     "name": "stdout",
     "output_type": "stream",
     "text": [
      "0\n",
      "1\n",
      "2\n",
      "3\n",
      "2\n",
      "1\n",
      "0\n"
     ]
    }
   ],
   "source": [
    "def pyramid_yield_from(max_val):\n",
    "    yield from range(max_val)\n",
    "    yield from range(max_val, -1, -1)\n",
    "    \n",
    "for i in pyramid_yield_from(3):\n",
    "    print(i)"
   ]
  },
  {
   "cell_type": "markdown",
   "metadata": {},
   "source": [
    "is roughly equivalent to"
   ]
  },
  {
   "cell_type": "code",
   "execution_count": 97,
   "metadata": {},
   "outputs": [
    {
     "name": "stdout",
     "output_type": "stream",
     "text": [
      "0\n",
      "1\n",
      "2\n",
      "3\n",
      "2\n",
      "1\n",
      "0\n"
     ]
    }
   ],
   "source": [
    "def pyramid_yield(max_val):\n",
    "    for i in range(max_val):\n",
    "        yield i\n",
    "    for i in range(max_val, -1, -1):\n",
    "        yield i\n",
    "    \n",
    "for i in pyramid_yield(3):\n",
    "    print(i)"
   ]
  },
  {
   "cell_type": "code",
   "execution_count": null,
   "metadata": {},
   "outputs": [],
   "source": []
  }
 ],
 "metadata": {
  "kernelspec": {
   "display_name": "Python 3",
   "language": "python",
   "name": "python3"
  },
  "language_info": {
   "codemirror_mode": {
    "name": "ipython",
    "version": 3
   },
   "file_extension": ".py",
   "mimetype": "text/x-python",
   "name": "python",
   "nbconvert_exporter": "python",
   "pygments_lexer": "ipython3",
   "version": "3.6.5"
  }
 },
 "nbformat": 4,
 "nbformat_minor": 2
}
